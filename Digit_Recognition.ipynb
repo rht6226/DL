{
  "nbformat": 4,
  "nbformat_minor": 0,
  "metadata": {
    "colab": {
      "name": "Digit Recognition.ipynb",
      "provenance": [],
      "authorship_tag": "ABX9TyOpUKmV+/gisQ4LqSerOuQY",
      "include_colab_link": true
    },
    "kernelspec": {
      "name": "python3",
      "display_name": "Python 3"
    }
  },
  "cells": [
    {
      "cell_type": "markdown",
      "metadata": {
        "id": "view-in-github",
        "colab_type": "text"
      },
      "source": [
        "<a href=\"https://colab.research.google.com/github/rht6226/DL/blob/main/Digit_Recognition.ipynb\" target=\"_parent\"><img src=\"https://colab.research.google.com/assets/colab-badge.svg\" alt=\"Open In Colab\"/></a>"
      ]
    },
    {
      "cell_type": "markdown",
      "metadata": {
        "id": "XnlpMKwD0Ntq"
      },
      "source": [
        "# Digit Recognition using Convolutional Neural Network\n",
        "\n",
        "Here we will be building a Convolutional Neural Network using keras and then we will use this network to predict handwritten digits form (0 - 9).\n",
        "\n",
        "## Dataset\n",
        "\n",
        "We will use the popular mnist dataset. This dataset consists of 70,000 images of handwritten digits from 0–9. We will attempt to identify them using a CNN.\n",
        "\n",
        "The mnist dataset is conveniently provided to us as part of the Keras library, so we can easily load the dataset."
      ]
    },
    {
      "cell_type": "code",
      "metadata": {
        "id": "z_4e3R3n0JgV",
        "outputId": "e25f7e4a-2306-4062-ca3c-b6d244a4203e",
        "colab": {
          "base_uri": "https://localhost:8080/",
          "height": 68
        }
      },
      "source": [
        "from keras.datasets import mnist\n",
        "\n",
        "# Loading the dataset\n",
        "(X_train, y_train), (X_test, y_test) = mnist.load_data()\n",
        "\n",
        "# Normalize\n",
        "X_train, X_test = X_train / 255.0, X_test/255.0\n",
        "\n",
        "print(\"Number of images in training set : {}\".format(X_train.shape[0]))\n",
        "print(\"Number of images in test set : {}\".format(X_test.shape[0]))\n",
        "print(\"Size of each image : {}\".format(X_train[0].shape))"
      ],
      "execution_count": 35,
      "outputs": [
        {
          "output_type": "stream",
          "text": [
            "Number of images in training set : 60000\n",
            "Number of images in test set : 10000\n",
            "Size of each image : (28, 28)\n"
          ],
          "name": "stdout"
        }
      ]
    },
    {
      "cell_type": "code",
      "metadata": {
        "id": "fuzsK6qo2J8K",
        "outputId": "72726cb8-9bb3-45cc-f54b-18da79946ef7",
        "colab": {
          "base_uri": "https://localhost:8080/",
          "height": 292
        }
      },
      "source": [
        "import matplotlib.pyplot as plt\n",
        "\n",
        "# Visualise the dataset\n",
        "plt.figure(figsize=(28,28))\n",
        "\n",
        "for index, (image, label) in enumerate(zip(X_train[0:6], y_train[0:6])):\n",
        "    plt.subplot(1, 6, index + 1)\n",
        "    plt.imshow(image)\n",
        "    plt.title('Training : {}'.format(label), fontsize=20)\n"
      ],
      "execution_count": 36,
      "outputs": [
        {
          "output_type": "display_data",
          "data": {
            "image/png": "[encoded data removed]",
            "text/plain": [
              "<Figure size 2016x2016 with 6 Axes>"
            ]
          },
          "metadata": {
            "tags": [],
            "needs_background": "light"
          }
        }
      ]
    },
    {
      "cell_type": "code",
      "metadata": {
        "id": "LikJ-w265Uv0",
        "outputId": "91494ac2-1869-4135-ce92-c5f16dcef0de",
        "colab": {
          "base_uri": "https://localhost:8080/",
          "height": 68
        }
      },
      "source": [
        "# Reshape the data in X_train and X_test to fit the model\n",
        "\n",
        "X_train = X_train.reshape(X_train.shape[0], 28, 28, 1)\n",
        "X_test = X_test.reshape(X_test.shape[0], 28, 28, 1)\n",
        "\n",
        "# One hot encode the data in y_train and y_test\n",
        "from keras.utils import to_categorical\n",
        "\n",
        "y_train = to_categorical(y_train)\n",
        "y_test = to_categorical(y_test)\n",
        "\n",
        "print(\"Modified shape of X_train = {} \\nModified shape of X_test = {}\".format(X_train.shape, X_test.shape))\n",
        "print(\"One Hote Encoded sample : {}\".format(y_train[0]))"
      ],
      "execution_count": 37,
      "outputs": [
        {
          "output_type": "stream",
          "text": [
            "Modified shape of X_train = (60000, 28, 28, 1) \n",
            "Modified shape of X_test = (10000, 28, 28, 1)\n",
            "One Hote Encoded sample : [0. 0. 0. 0. 0. 1. 0. 0. 0. 0.]\n"
          ],
          "name": "stdout"
        }
      ]
    },
    {
      "cell_type": "markdown",
      "metadata": {
        "id": "Cjrtas5Q7SN7"
      },
      "source": [
        "## Building and training model - 1\n",
        "\n",
        "Now we will build a convolutional model using a Sequential model in Keras.\n",
        "It will allow us to build the model layer by layer.\n",
        "\n",
        "Layer 1 : Conv Layer\n",
        "\n",
        "*   Kernel Size - (3, 3)      \t\n",
        "* Number of Kernels \t- 64\n",
        "* Activation -\t ReLu        \n",
        "* Input Size   \t- (28, 28, 1)\n",
        "\n",
        "Layer 2: Conv Layer\n",
        "*   Kernel Size - (3, 3)      \t\n",
        "* Number of Kernels \t- 32\n",
        "* Activation -\t ReLu        \n",
        "\n",
        "Layer 3: Flatten\n",
        "\n",
        "Layer 4: Softmax with 10 outputs\n",
        "\n",
        "\n"
      ]
    },
    {
      "cell_type": "code",
      "metadata": {
        "id": "pJhn00r57NDe",
        "outputId": "a38c8108-22aa-4aa1-8bd4-251a03847897",
        "colab": {
          "base_uri": "https://localhost:8080/",
          "height": 51
        }
      },
      "source": [
        "from keras.models import Sequential\n",
        "from keras.layers import Dense, Conv2D, Flatten\n",
        "\n",
        "# Creating Model\n",
        "model1 = Sequential()\n",
        "\n",
        "# Adding Layers\n",
        "model1.add(Conv2D(64, kernel_size=3, activation='relu', input_shape=(28, 28, 1)))\n",
        "model1.add(Conv2D(32, kernel_size=3, activation='relu'))\n",
        "model1.add(Flatten())\n",
        "model1.add(Dense(10, activation='softmax'))\n",
        "\n",
        "# Compiling the Sequential Model\n",
        "model1.compile(optimizer='adam', loss='categorical_crossentropy', metrics=['accuracy'])\n",
        "\n",
        "# Training the model\n",
        "history = model1.fit(X_train, y_train, validation_data=(X_test, y_test), epochs=3)"
      ],
      "execution_count": null,
      "outputs": [
        {
          "output_type": "stream",
          "text": [
            "Epoch 1/3\n",
            " 665/1875 [=========>....................] - ETA: 1:41 - loss: 0.2214 - accuracy: 0.9338"
          ],
          "name": "stdout"
        }
      ]
    },
    {
      "cell_type": "code",
      "metadata": {
        "id": "kb1PRZNkMOHS"
      },
      "source": [
        "from keras.utils.vis_utils import plot_model\n",
        "# Model Visualisation\n",
        "\n",
        "\n",
        "print('\\nSummary of Model 1 :\\n')\n",
        "print(model1.summary())\n",
        "\n",
        "print('\\nVisualisation of Model 1 :\\n')\n",
        "plot_model(model1, show_shapes=True, show_layer_names=True)"
      ],
      "execution_count": null,
      "outputs": []
    },
    {
      "cell_type": "markdown",
      "metadata": {
        "id": "aPiDJ1sUEcLy"
      },
      "source": [
        "## Building and training model - 2\n",
        "\n",
        "Now we will build another convolutional model using Sequential model in Keras.\n",
        "Here we will use 5 x 5 convolutions\n",
        "\n",
        "Layer 1 : Conv Layer\n",
        "\n",
        "*   Kernel Size - (5, 5)      \t\n",
        "* Number of Kernels \t- 32\n",
        "* Activation -\t ReLu        \n",
        "* Input Size   \t- (28, 28, 1)\n",
        "\n",
        "Layer 2: Conv Layer\n",
        "*   Kernel Size - (5, 5)      \t\n",
        "* Number of Kernels \t- 16\n",
        "* Activation -\t ReLu        \n",
        "\n",
        "Layer 3: Flatten\n",
        "\n",
        "Layer 4: Softmax with 10 outputs"
      ]
    },
    {
      "cell_type": "code",
      "metadata": {
        "id": "t2BN5G_fE148"
      },
      "source": [
        "from keras.models import Sequential\n",
        "from keras.layers import Dense, Conv2D, Flatten\n",
        "\n",
        "# Creating Model\n",
        "model2 = Sequential()\n",
        "\n",
        "# Adding Layers\n",
        "model2.add(Conv2D(32, kernel_size=5, activation='relu', input_shape=(28, 28, 1)))\n",
        "model2.add(Conv2D(16, kernel_size=5, activation='relu'))\n",
        "model2.add(Flatten())\n",
        "model2.add(Dense(10, activation='softmax'))\n",
        "\n",
        "# Compiling the Sequential Model\n",
        "model2.compile(optimizer='adam', loss='categorical_crossentropy', metrics=['accuracy'])\n",
        "\n",
        "# Training the model\n",
        "history2 = model2.fit(X_train, y_train, validation_data=(X_test, y_test), epochs=3)"
      ],
      "execution_count": null,
      "outputs": []
    },
    {
      "cell_type": "code",
      "metadata": {
        "id": "F2wrsWvrNwcz"
      },
      "source": [
        "# Model Visualisation\n",
        "\n",
        "\n",
        "print('\\nSummary of Model 2 :\\n')\n",
        "print(model2.summary())\n",
        "\n",
        "print('\\nVisualisation of Model 1 :\\n')\n",
        "plot_model(model2, show_shapes=True, show_layer_names=True)"
      ],
      "execution_count": null,
      "outputs": []
    },
    {
      "cell_type": "markdown",
      "metadata": {
        "id": "JV7XnbcWFJM5"
      },
      "source": [
        "## Building and training the model - 3\n",
        "\n",
        "Now we will build another convolutional model using Sequential model in Keras.\n",
        "Here we will use 3 x 3 as well as 5 x 5 convolutions\n",
        "\n",
        "Layer 1 : Conv Layer\n",
        "\n",
        "*   Kernel Size - (3, 3)      \t\n",
        "* Number of Kernels \t- 64\n",
        "* Activation -\t ReLu        \n",
        "* Input Size   \t- (28, 28, 1)\n",
        "\n",
        "Layer 2: Conv Layer\n",
        "*   Kernel Size - (5, 5)      \t\n",
        "* Number of Kernels \t- 32\n",
        "* Activation -\t ReLu        \n",
        "\n",
        "Layer 3: Flatten\n",
        "\n",
        "Layer 4: Softmax with 10 outputs"
      ]
    },
    {
      "cell_type": "code",
      "metadata": {
        "id": "PgRpcQHJFIok"
      },
      "source": [
        "from keras.models import Sequential\n",
        "from keras.layers import Dense, Conv2D, Flatten\n",
        "\n",
        "# Creating Model\n",
        "model3 = Sequential()\n",
        "\n",
        "# Adding Layers\n",
        "model3.add(Conv2D(64, kernel_size=3, activation='relu', input_shape=(28, 28, 1)))\n",
        "model3.add(Conv2D(32, kernel_size=5, activation='relu'))\n",
        "model3.add(Flatten())\n",
        "model3.add(Dense(10, activation='softmax'))\n",
        "\n",
        "# Compiling the Sequential Model\n",
        "model3.compile(optimizer='adam', loss='categorical_crossentropy', metrics=['accuracy'])\n",
        "\n",
        "# Training the model\n",
        "history3 = model3.fit(X_train, y_train, validation_data=(X_test, y_test), epochs=3)"
      ],
      "execution_count": null,
      "outputs": []
    },
    {
      "cell_type": "code",
      "metadata": {
        "id": "pctNgj0AOjSe"
      },
      "source": [
        "from keras.utils.vis_utils import plot_model\n",
        "# Model Visualisation\n",
        "\n",
        "\n",
        "print('\\nSummary of Model 1 :\\n')\n",
        "print(model3.summary())\n",
        "\n",
        "print('\\nVisualisation of Model 1 :\\n')\n",
        "plot_model(model3, show_shapes=True, show_layer_names=True)"
      ],
      "execution_count": null,
      "outputs": []
    }
  ]
}